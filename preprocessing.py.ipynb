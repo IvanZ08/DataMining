{
 "cells": [
  {
   "cell_type": "code",
   "execution_count": 1,
   "id": "5538f31f",
   "metadata": {},
   "outputs": [],
   "source": [
    "#import library yang akan digunakan\n",
    "import pandas as pd\n",
    "import numpy as np\n",
    "import matplotlib.pyplot as plt"
   ]
  },
  {
   "cell_type": "code",
   "execution_count": 2,
   "id": "da31ae25",
   "metadata": {},
   "outputs": [],
   "source": [
    "#import dataset yang akan digunakan\n",
    "dataset = pd.read_csv('travelinsurance.csv')\n",
    "X = dataset.iloc[:, :-1].values\n",
    "y = dataset.iloc[:, 5].values"
   ]
  },
  {
   "cell_type": "code",
   "execution_count": 3,
   "id": "f6dd6020",
   "metadata": {},
   "outputs": [
    {
     "data": {
      "text/html": [
       "<div>\n",
       "<style scoped>\n",
       "    .dataframe tbody tr th:only-of-type {\n",
       "        vertical-align: middle;\n",
       "    }\n",
       "\n",
       "    .dataframe tbody tr th {\n",
       "        vertical-align: top;\n",
       "    }\n",
       "\n",
       "    .dataframe thead th {\n",
       "        text-align: right;\n",
       "    }\n",
       "</style>\n",
       "<table border=\"1\" class=\"dataframe\">\n",
       "  <thead>\n",
       "    <tr style=\"text-align: right;\">\n",
       "      <th></th>\n",
       "      <th>Agency Type</th>\n",
       "      <th>Destination</th>\n",
       "      <th>Net Sales</th>\n",
       "      <th>Commision (in value)</th>\n",
       "      <th>Age</th>\n",
       "      <th>Claim</th>\n",
       "    </tr>\n",
       "  </thead>\n",
       "  <tbody>\n",
       "    <tr>\n",
       "      <th>0</th>\n",
       "      <td>Travel Agency</td>\n",
       "      <td>MALAYSIA</td>\n",
       "      <td>-29.0</td>\n",
       "      <td>9.57</td>\n",
       "      <td>81</td>\n",
       "      <td>No</td>\n",
       "    </tr>\n",
       "    <tr>\n",
       "      <th>1</th>\n",
       "      <td>Travel Agency</td>\n",
       "      <td>NaN</td>\n",
       "      <td>-29.0</td>\n",
       "      <td>9.57</td>\n",
       "      <td>71</td>\n",
       "      <td>No</td>\n",
       "    </tr>\n",
       "    <tr>\n",
       "      <th>2</th>\n",
       "      <td>Travel Agency</td>\n",
       "      <td>AUSTRALIA</td>\n",
       "      <td>-49.5</td>\n",
       "      <td>29.70</td>\n",
       "      <td>32</td>\n",
       "      <td>No</td>\n",
       "    </tr>\n",
       "    <tr>\n",
       "      <th>3</th>\n",
       "      <td>Travel Agency</td>\n",
       "      <td>NaN</td>\n",
       "      <td>-39.6</td>\n",
       "      <td>23.76</td>\n",
       "      <td>32</td>\n",
       "      <td>No</td>\n",
       "    </tr>\n",
       "    <tr>\n",
       "      <th>4</th>\n",
       "      <td>Travel Agency</td>\n",
       "      <td>ITALY</td>\n",
       "      <td>-19.8</td>\n",
       "      <td>11.88</td>\n",
       "      <td>41</td>\n",
       "      <td>No</td>\n",
       "    </tr>\n",
       "  </tbody>\n",
       "</table>\n",
       "</div>"
      ],
      "text/plain": [
       "     Agency Type Destination  Net Sales  Commision (in value)  Age Claim\n",
       "0  Travel Agency    MALAYSIA      -29.0                  9.57   81    No\n",
       "1  Travel Agency         NaN      -29.0                  9.57   71    No\n",
       "2  Travel Agency   AUSTRALIA      -49.5                 29.70   32    No\n",
       "3  Travel Agency         NaN      -39.6                 23.76   32    No\n",
       "4  Travel Agency       ITALY      -19.8                 11.88   41    No"
      ]
     },
     "execution_count": 3,
     "metadata": {},
     "output_type": "execute_result"
    }
   ],
   "source": [
    "#untuk menampilkan 5data paling atas pada dataset\n",
    "dataset.head()"
   ]
  },
  {
   "cell_type": "code",
   "execution_count": 4,
   "id": "22772bf9",
   "metadata": {},
   "outputs": [
    {
     "name": "stdout",
     "output_type": "stream",
     "text": [
      "[['Travel Agency' 'MALAYSIA' -29.0 9.57 81]\n",
      " ['Travel Agency' nan -29.0 9.57 71]\n",
      " ['Travel Agency' 'AUSTRALIA' -49.5 29.7 32]\n",
      " ...\n",
      " ['Airlines' 'MALAYSIA' 18.0 6.3 57]\n",
      " ['Airlines' 'VIET NAM' 18.0 6.3 63]\n",
      " ['Airlines' 'HONG KONG' 26.0 9.1 35]]\n"
     ]
    }
   ],
   "source": [
    "from sklearn.model_selection import train_test_split\n",
    "X_train, X_test, y_train, y_test = train_test_split(X, y, test_size = 0.4, random_state = 0)\n",
    "\n",
    "print(X)"
   ]
  },
  {
   "cell_type": "code",
   "execution_count": 5,
   "id": "6d28cb06",
   "metadata": {},
   "outputs": [
    {
     "name": "stdout",
     "output_type": "stream",
     "text": [
      "['No' 'No' 'No' ... 'No' 'No' 'No']\n"
     ]
    }
   ],
   "source": [
    "print(y)"
   ]
  },
  {
   "cell_type": "code",
   "execution_count": 6,
   "id": "7eaeb4e5",
   "metadata": {},
   "outputs": [],
   "source": [
    "from sklearn.impute import SimpleImputer \n",
    "imputer = SimpleImputer(missing_values=np.nan, strategy='most_frequent') #mengisi kekosongan cell dengan method mostfreq \n",
    "imputer.fit(X[:,1:3])\n",
    "X[:,1:3] = imputer.transform(X[:,1:3])"
   ]
  },
  {
   "cell_type": "code",
   "execution_count": 7,
   "id": "633ea6e0",
   "metadata": {},
   "outputs": [
    {
     "name": "stdout",
     "output_type": "stream",
     "text": [
      "[['Travel Agency' 'MALAYSIA' -29.0 9.57 81]\n",
      " ['Travel Agency' 'SINGAPORE' -29.0 9.57 71]\n",
      " ['Travel Agency' 'AUSTRALIA' -49.5 29.7 32]\n",
      " ...\n",
      " ['Airlines' 'MALAYSIA' 18.0 6.3 57]\n",
      " ['Airlines' 'VIET NAM' 18.0 6.3 63]\n",
      " ['Airlines' 'HONG KONG' 26.0 9.1 35]]\n"
     ]
    }
   ],
   "source": [
    "print(X)"
   ]
  },
  {
   "cell_type": "code",
   "execution_count": 8,
   "id": "5677caed",
   "metadata": {},
   "outputs": [
    {
     "name": "stdout",
     "output_type": "stream",
     "text": [
      "['No' 'No' 'No' ... 'No' 'No' 'No']\n"
     ]
    }
   ],
   "source": [
    "print(y)"
   ]
  },
  {
   "cell_type": "code",
   "execution_count": 9,
   "id": "81f2a21d",
   "metadata": {},
   "outputs": [],
   "source": [
    "from sklearn.compose import ColumnTransformer\n",
    "from sklearn.preprocessing import OneHotEncoder\n",
    "ct = ColumnTransformer(transformers=[('encoder', OneHotEncoder(), [0])], remainder='passthrough')\n",
    "X = np.array(ct.fit_transform(X))"
   ]
  },
  {
   "cell_type": "code",
   "execution_count": 10,
   "id": "885e3e3a",
   "metadata": {},
   "outputs": [
    {
     "name": "stdout",
     "output_type": "stream",
     "text": [
      "[[0.0 1.0 'MALAYSIA' -29.0 9.57 81]\n",
      " [0.0 1.0 'SINGAPORE' -29.0 9.57 71]\n",
      " [0.0 1.0 'AUSTRALIA' -49.5 29.7 32]\n",
      " ...\n",
      " [1.0 0.0 'MALAYSIA' 18.0 6.3 57]\n",
      " [1.0 0.0 'VIET NAM' 18.0 6.3 63]\n",
      " [1.0 0.0 'HONG KONG' 26.0 9.1 35]]\n"
     ]
    }
   ],
   "source": [
    "print(X)"
   ]
  },
  {
   "cell_type": "code",
   "execution_count": 11,
   "id": "9caf1a4b",
   "metadata": {},
   "outputs": [],
   "source": [
    "from sklearn.preprocessing import LabelEncoder\n",
    "le = LabelEncoder()\n",
    "y = le.fit_transform(y)"
   ]
  },
  {
   "cell_type": "code",
   "execution_count": 12,
   "id": "61808388",
   "metadata": {},
   "outputs": [
    {
     "name": "stdout",
     "output_type": "stream",
     "text": [
      "[0 0 0 ... 0 0 0]\n"
     ]
    }
   ],
   "source": [
    "print(y)"
   ]
  },
  {
   "cell_type": "code",
   "execution_count": 13,
   "id": "944c5dfb",
   "metadata": {},
   "outputs": [],
   "source": [
    "from sklearn.model_selection import train_test_split\n",
    "X_train, X_test, y_train, y_test = train_test_split(X, y, test_size = 0.2)"
   ]
  },
  {
   "cell_type": "code",
   "execution_count": 14,
   "id": "059215fa",
   "metadata": {},
   "outputs": [
    {
     "name": "stdout",
     "output_type": "stream",
     "text": [
      "[[0.0 1.0 'HONG KONG' 28.0 0.0 36]\n",
      " [1.0 0.0 'INDIA' 31.0 12.4 118]\n",
      " [0.0 1.0 'CHINA' 27.0 0.0 36]\n",
      " ...\n",
      " [0.0 1.0 'INDONESIA' 10.0 0.0 24]\n",
      " [0.0 1.0 'INDONESIA' 20.0 0.0 36]\n",
      " [1.0 0.0 'MALAYSIA' 30.0 10.5 56]]\n"
     ]
    }
   ],
   "source": [
    "print(X_train)"
   ]
  },
  {
   "cell_type": "code",
   "execution_count": 15,
   "id": "3ca448e5",
   "metadata": {},
   "outputs": [
    {
     "name": "stdout",
     "output_type": "stream",
     "text": [
      "[[0.0 1.0 'KOREA, REPUBLIC OF' 0.0 0.0 36]\n",
      " [0.0 1.0 'MALAYSIA' 10.0 0.0 41]\n",
      " [1.0 0.0 'BRUNEI DARUSSALAM' 23.0 9.2 39]\n",
      " ...\n",
      " [1.0 0.0 'MYANMAR' 47.0 16.45 35]\n",
      " [0.0 1.0 'SINGAPORE' 10.0 0.0 26]\n",
      " [0.0 1.0 'CHINA' 26.0 0.0 36]]\n"
     ]
    }
   ],
   "source": [
    "print(X_test)"
   ]
  },
  {
   "cell_type": "code",
   "execution_count": 16,
   "id": "3341fa7d",
   "metadata": {},
   "outputs": [
    {
     "name": "stdout",
     "output_type": "stream",
     "text": [
      "[0 0 0 ... 0 0 0]\n"
     ]
    }
   ],
   "source": [
    "print(y_train)"
   ]
  },
  {
   "cell_type": "code",
   "execution_count": 17,
   "id": "dd819046",
   "metadata": {},
   "outputs": [
    {
     "name": "stdout",
     "output_type": "stream",
     "text": [
      "[0 0 0 ... 0 0 0]\n"
     ]
    }
   ],
   "source": [
    "print(y_test)"
   ]
  },
  {
   "cell_type": "code",
   "execution_count": 18,
   "id": "36ee4107",
   "metadata": {},
   "outputs": [],
   "source": [
    "from sklearn.preprocessing import StandardScaler\n",
    "sc = StandardScaler()\n",
    "X_train[:, 3:] = sc.fit_transform(X_train[:, 3:])\n",
    "X_test[:, 3:] = sc.transform(X_test[:, 3:])"
   ]
  },
  {
   "cell_type": "code",
   "execution_count": 19,
   "id": "0ac55a63",
   "metadata": {},
   "outputs": [
    {
     "name": "stdout",
     "output_type": "stream",
     "text": [
      "[[0.0 1.0 'HONG KONG' -0.25881633042200636 -0.4949834601311455\n",
      "  -0.28503129922641834]\n",
      " [1.0 0.0 'INDIA' -0.19730665610453219 0.13009796153692338\n",
      "  5.540201137284157]\n",
      " [0.0 1.0 'CHINA' -0.27931955519449775 -0.4949834601311455\n",
      "  -0.28503129922641834]\n",
      " ...\n",
      " [0.0 1.0 'INDONESIA' -0.6278743763268513 -0.4949834601311455\n",
      "  -1.1375043387157708]\n",
      " [0.0 1.0 'INDONESIA' -0.42284212860193743 -0.4949834601311455\n",
      "  -0.28503129922641834]\n",
      " [1.0 0.0 'MALAYSIA' -0.21780988087702358 0.0343193566039128\n",
      "  1.1357570999225026]]\n"
     ]
    }
   ],
   "source": [
    "print(X_train)"
   ]
  },
  {
   "cell_type": "code",
   "execution_count": 20,
   "id": "a0d53132",
   "metadata": {},
   "outputs": [
    {
     "name": "stdout",
     "output_type": "stream",
     "text": [
      "[[0.0 1.0 'KOREA, REPUBLIC OF' -0.8329066240517651 -0.4949834601311455\n",
      "  -0.28503129922641834]\n",
      " [0.0 1.0 'MALAYSIA' -0.6278743763268513 -0.4949834601311455\n",
      "  0.07016580056081187]\n",
      " [1.0 0.0 'BRUNEI DARUSSALAM' -0.36133245428446326 -0.03121337308709446\n",
      "  -0.07191303935408022]\n",
      " ...\n",
      " [1.0 0.0 'MYANMAR' 0.13074494025532996 0.3342576194204458\n",
      "  -0.3560707191838644]\n",
      " [0.0 1.0 'SINGAPORE' -0.6278743763268513 -0.4949834601311455\n",
      "  -0.9954254988008788]\n",
      " [0.0 1.0 'CHINA' -0.2998227799669891 -0.4949834601311455\n",
      "  -0.28503129922641834]]\n"
     ]
    }
   ],
   "source": [
    "print(X_test)"
   ]
  },
  {
   "cell_type": "code",
   "execution_count": null,
   "id": "c1b4f967",
   "metadata": {},
   "outputs": [],
   "source": []
  }
 ],
 "metadata": {
  "kernelspec": {
   "display_name": "Python 3 (ipykernel)",
   "language": "python",
   "name": "python3"
  },
  "language_info": {
   "codemirror_mode": {
    "name": "ipython",
    "version": 3
   },
   "file_extension": ".py",
   "mimetype": "text/x-python",
   "name": "python",
   "nbconvert_exporter": "python",
   "pygments_lexer": "ipython3",
   "version": "3.10.9"
  }
 },
 "nbformat": 4,
 "nbformat_minor": 5
}
